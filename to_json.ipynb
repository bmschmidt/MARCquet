{
 "cells": [
  {
   "cell_type": "code",
   "execution_count": 1,
   "id": "0e03ec21-6e85-43e0-b19e-f906ffe2da27",
   "metadata": {},
   "outputs": [],
   "source": [
    "#[*schema['fields'].keys()]\n"
   ]
  },
  {
   "cell_type": "code",
   "execution_count": 2,
   "id": "8fa01939-00ab-4f0f-ab3e-829f0b0085da",
   "metadata": {},
   "outputs": [],
   "source": [
    "import pymarc"
   ]
  },
  {
   "cell_type": "code",
   "execution_count": 3,
   "id": "8a898e4d-8c32-4c76-b76c-2d2db2d53c7a",
   "metadata": {},
   "outputs": [
    {
     "data": {
      "text/plain": [
       "['$schema', 'title', 'description', 'url', 'fields']"
      ]
     },
     "execution_count": 3,
     "metadata": {},
     "output_type": "execute_result"
    }
   ],
   "source": [
    "import gzip\n",
    "from pathlib import Path\n",
    "import json\n",
    "import pyarrow as pa\n",
    "from pyarrow import json as pajson\n",
    "from pyarrow import compute as pc\n",
    "from pyarrow import parquet\n",
    "import polars as pl\n",
    "import pymarc\n",
    "\n",
    "schema = json.load(open(\"marc-schema.json\"))\n",
    "[*schema.keys()]"
   ]
  },
  {
   "cell_type": "code",
   "execution_count": 4,
   "id": "918be474-26af-4430-8ee0-b42fa18378bd",
   "metadata": {},
   "outputs": [],
   "source": [
    "def parse_sub(val, field_name):\n",
    "    sub = defaultdict(list)\n",
    "    for d in val['subfields']:\n",
    "        if len(d) > 1:\n",
    "            raise IndexError(\"WHOA, MULTIPLE FIELDS\")\n",
    "        subname, subval = [*d.items()][0]\n",
    "        if field_name not in schema['fields'] or subname not in schema['fields'][field_name][\"subfields\"] or \\\n",
    "           schema['fields'][field_name][\"subfields\"][subname]['repeatable']:\n",
    "            sub[subname].append(subval)\n",
    "        else:\n",
    "            sub[subname] = subval\n",
    "    for ind in 'ind1', 'ind2':\n",
    "        try:\n",
    "            sub[ind] = val[ind]\n",
    "        except KeyError:\n",
    "            pass\n",
    "    return sub"
   ]
  },
  {
   "cell_type": "code",
   "execution_count": 1,
   "id": "fea0c3f3-e2e1-4434-aa57-925748879127",
   "metadata": {},
   "outputs": [],
   "source": [
    "def parse_json(record):\n",
    "    d = record\n",
    "    r = defaultdict(list)\n",
    "    r['leader'] = d['leader']\n",
    "    for field_pair in d['fields']:\n",
    "        if len(field_pair) > 1:\n",
    "            print(field_pair)\n",
    "            raise IndexError(\"HUH\")\n",
    "        field_name, val = [*field_pair.items()][0]  \n",
    "        if isinstance(val, str):\n",
    "            r[field_name] = val\n",
    "            continue\n",
    "        if not field_name in schema['fields'] or schema['fields'][field_name]['repeatable']:\n",
    "            r[field_name].append(parse_sub(val, field_name))\n",
    "        else:\n",
    "            r[field_name] = parse_sub(val, field_name)"
   ]
  },
  {
   "cell_type": "code",
   "execution_count": null,
   "id": "5edcc07f-b31f-46ae-9adb-ca7038152449",
   "metadata": {},
   "outputs": [],
   "source": []
  },
  {
   "cell_type": "code",
   "execution_count": 5,
   "id": "a939a71e-07ed-4553-890b-ae29f98a3586",
   "metadata": {},
   "outputs": [
    {
     "name": "stdout",
     "output_type": "stream",
     "text": [
      "2020445551_2019/Books.All.2019.part10.utf8.gz\n",
      "2020445551_2019/Books.All.2019.part19.utf8.gz\n",
      "2020445551_2019/Books.All.2019.part09.utf8.gz\n",
      "2020445551_2019/Books.All.2019.part26.utf8.gz\n",
      "2020445551_2019/Books.All.2019.part36.utf8.gz\n",
      "2020445551_2019/Books.All.2019.part44.utf8.gz\n",
      "2020445551_2019/Books.All.2019.part08.utf8.gz\n",
      "2020445551_2019/Books.All.2019.part18.utf8.gz\n",
      "2020445551_2019/Books.All.2019.part37.utf8.gz\n",
      "2020445551_2019/Books.All.2019.part27.utf8.gz\n",
      "2020445551_2019/Books.All.2019.part45.utf8.gz\n",
      "2020445551_2019/Books.All.2019.part11.utf8.gz\n",
      "2020445551_2019/Books.All.2019.part01.utf8.gz\n",
      "2020445551_2019/Books.All.2019.part25.utf8.gz\n",
      "2020445551_2019/Books.All.2019.part35.utf8.gz\n",
      "2020445551_2019/Books.All.2019.part03.utf8.gz\n",
      "2020445551_2019/Books.All.2019.part13.utf8.gz\n",
      "2020445551_2019/Books.All.2019.part12.utf8.gz\n",
      "2020445551_2019/Books.All.2019.part02.utf8.gz\n",
      "2020445551_2019/Books.All.2019.part46.utf8.gz\n",
      "2020445551_2019/Books.All.2019.part34.utf8.gz\n",
      "2020445551_2019/Books.All.2019.part24.utf8.gz\n",
      "2020445551_2019/Books.All.2019.part43.utf8.gz\n",
      "2020445551_2019/Books.All.2019.part21.utf8.gz\n",
      "2020445551_2019/Books.All.2019.part31.utf8.gz\n",
      "2020445551_2019/Books.All.2019.part38.utf8.gz\n",
      "2020445551_2019/Books.All.2019.part28.utf8.gz\n",
      "2020445551_2019/Books.All.2019.combined.part01.utf8.gz\n",
      "2020445551_2019/Books.All.2019.part07.utf8.gz\n",
      "2020445551_2019/Books.All.2019.part17.utf8.gz\n",
      "2020445551_2019/Books.All.2019.part29.utf8.gz\n",
      "2020445551_2019/Books.All.2019.part39.utf8.gz\n",
      "2020445551_2019/Books.All.2019.part16.utf8.gz\n",
      "2020445551_2019/Books.All.2019.part06.utf8.gz\n",
      "2020445551_2019/Books.All.2019.part42.utf8.gz\n",
      "2020445551_2019/Books.All.2019.part30.utf8.gz\n",
      "2020445551_2019/Books.All.2019.part20.utf8.gz\n",
      "2020445551_2019/Books.All.2019.combined.part02.utf8.gz\n",
      "2020445551_2019/Books.All.2019.part04.utf8.gz\n",
      "2020445551_2019/Books.All.2019.part14.utf8.gz\n",
      "2020445551_2019/Books.All.2019.part22.utf8.gz\n",
      "2020445551_2019/Books.All.2019.part32.utf8.gz\n",
      "2020445551_2019/Books.All.2019.part40.utf8.gz\n",
      "2020445551_2019/Books.All.2019.part33.utf8.gz\n",
      "2020445551_2019/Books.All.2019.part23.utf8.gz\n",
      "2020445551_2019/Books.All.2019.part41.utf8.gz\n",
      "2020445551_2019/Books.All.2019.part15.utf8.gz\n",
      "2020445551_2019/Books.All.2019.part05.utf8.gz\n",
      "249900\r"
     ]
    }
   ],
   "source": [
    "from collections import defaultdict\n",
    "for path_in in Path(\"2020445551_2019\").glob(\"*.utf8.gz\"):\n",
    "    print(path_in)\n",
    "    if 'combined' in str(path_in):\n",
    "        continue\n",
    "    dest = Path(\"parquet/\", path_in.stem).with_suffix(\".parquet\")\n",
    "    if dest.exists():\n",
    "        continue\n",
    "    f = gzip.open(path_in)\n",
    "    reader = pymarc.MARCReader(f,  to_unicode=True)\n",
    "    with open(\"/tmp/f.json\", \"w\") as fout:\n",
    "        for i, record in enumerate(reader):\n",
    "            d = record.as_dict()\n",
    "            r = parse_dict_marc(d)\n",
    "\n",
    "            fout.write(json.dumps(r) + \"\\n\")\n",
    "            if i % 100 == 0:\n",
    "                print(i, end=\"\\r\")\n",
    "            if i > 260_000:\n",
    "                raise IndexError(\"TOO HIGH \" + path_in)\n",
    "            \n",
    "    del reader\n",
    "    as_feather = pajson.read_json(\"/tmp/f.json\")\n",
    "    parquet.write_table(as_feather, dest,\n",
    "                        compression = \"zstd\", compression_level = 10)\n",
    "    f.close()\n",
    "            #key\n",
    "#val"
   ]
  },
  {
   "cell_type": "code",
   "execution_count": null,
   "id": "201fd7fe-8071-4d63-9767-3c1713b1bee9",
   "metadata": {},
   "outputs": [],
   "source": [
    "schema['fields'][field_name][\"subfields\"][val]"
   ]
  },
  {
   "cell_type": "code",
   "execution_count": null,
   "id": "42849fb6-c64e-4a6e-a75d-c3aadcded156",
   "metadata": {},
   "outputs": [],
   "source": [
    "\n",
    "fs = record.fields"
   ]
  },
  {
   "cell_type": "code",
   "execution_count": null,
   "id": "ca99cbe8-18da-4ab7-ab54-c5be15b6acf7",
   "metadata": {},
   "outputs": [],
   "source": [
    "fs[0].tag"
   ]
  },
  {
   "cell_type": "code",
   "execution_count": null,
   "id": "6bb940c3-902b-4c83-844c-1d6c30739de2",
   "metadata": {},
   "outputs": [],
   "source": []
  },
  {
   "cell_type": "code",
   "execution_count": null,
   "id": "5312183f-d87c-4927-abec-d35efd3d37fc",
   "metadata": {},
   "outputs": [],
   "source": []
  }
 ],
 "metadata": {
  "kernelspec": {
   "display_name": "Python 3 (ipykernel)",
   "language": "python",
   "name": "python3"
  },
  "language_info": {
   "codemirror_mode": {
    "name": "ipython",
    "version": 3
   },
   "file_extension": ".py",
   "mimetype": "text/x-python",
   "name": "python",
   "nbconvert_exporter": "python",
   "pygments_lexer": "ipython3",
   "version": "3.10.0"
  }
 },
 "nbformat": 4,
 "nbformat_minor": 5
}
